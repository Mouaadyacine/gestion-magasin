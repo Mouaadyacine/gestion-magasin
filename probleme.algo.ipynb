{
 "cells": [
  {
   "cell_type": "code",
   "execution_count": null,
   "metadata": {},
   "outputs": [],
   "source": [
    "                            algorithme gestion-magasin\n",
    "variable\n",
    "  i,j,tva,ttc,artn,s,total,ht:reel\n",
    "tableaux\n",
    "    cln(3):reel\n",
    "    cla(3):reel\n",
    "pôur i <= 0 a 3 pas 1 faire:\n",
    "ecrire(\"entrer fullname for client number\",i+1)\n",
    "lire(cln)\n",
    "ecrire(\"enter number of articles for client number\",i+1)\n",
    "\n",
    "s<=0\n",
    "pour j <= 0 a artn pas 1 faire:\n",
    " ecrire(\"enter the price for article number\",j+1)\n",
    " lire(ht)\n",
    " s<=s+ht \n",
    "\n",
    "tva <= s*15/100\n",
    "ttc <= s+tva\n",
    "total <= ttc-ttc*2/100\n",
    "\n",
    "cla.append(total)\n",
    "\n",
    "ecrire(\"________________________\")\n",
    "ecrire(\"      facture           \")\n",
    "ecrire(\"________________________\")\n",
    "pour i <=0 a 3 pas 1 faire:\n",
    "  ecrire(\"total amount for client [\",cln[i],\"] is :\",cla[i])"
   ]
  }
 ],
 "metadata": {
  "language_info": {
   "name": "python"
  }
 },
 "nbformat": 4,
 "nbformat_minor": 2
}
